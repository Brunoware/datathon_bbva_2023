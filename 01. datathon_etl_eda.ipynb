{
 "cells": [
  {
   "cell_type": "code",
   "execution_count": 1,
   "id": "221b2fad-ce7e-4577-9af8-a2b560ebee60",
   "metadata": {
    "collapsed": true,
    "jupyter": {
     "outputs_hidden": true
    },
    "tags": []
   },
   "outputs": [
    {
     "name": "stdout",
     "output_type": "stream",
     "text": [
      "Requirement already satisfied: dask[complete] in c:\\users\\acer\\anaconda3\\lib\\site-packages (2023.6.0)\n",
      "Requirement already satisfied: click>=8.0 in c:\\users\\acer\\anaconda3\\lib\\site-packages (from dask[complete]) (8.0.4)\n",
      "Requirement already satisfied: cloudpickle>=1.5.0 in c:\\users\\acer\\anaconda3\\lib\\site-packages (from dask[complete]) (2.2.1)\n",
      "Requirement already satisfied: fsspec>=2021.09.0 in c:\\users\\acer\\anaconda3\\lib\\site-packages (from dask[complete]) (2023.4.0)\n",
      "Requirement already satisfied: packaging>=20.0 in c:\\users\\acer\\anaconda3\\lib\\site-packages (from dask[complete]) (23.1)\n",
      "Requirement already satisfied: partd>=1.2.0 in c:\\users\\acer\\anaconda3\\lib\\site-packages (from dask[complete]) (1.4.0)\n",
      "Requirement already satisfied: pyyaml>=5.3.1 in c:\\users\\acer\\anaconda3\\lib\\site-packages (from dask[complete]) (6.0)\n",
      "Requirement already satisfied: toolz>=0.10.0 in c:\\users\\acer\\anaconda3\\lib\\site-packages (from dask[complete]) (0.12.0)\n",
      "Requirement already satisfied: importlib-metadata>=4.13.0 in c:\\users\\acer\\anaconda3\\lib\\site-packages (from dask[complete]) (6.0.0)\n",
      "Requirement already satisfied: pyarrow>=7.0 in c:\\users\\acer\\anaconda3\\lib\\site-packages (from dask[complete]) (11.0.0)\n",
      "Requirement already satisfied: lz4>=4.3.2 in c:\\users\\acer\\anaconda3\\lib\\site-packages (from dask[complete]) (4.3.2)\n",
      "Requirement already satisfied: colorama in c:\\users\\acer\\anaconda3\\lib\\site-packages (from click>=8.0->dask[complete]) (0.4.6)\n",
      "Requirement already satisfied: zipp>=0.5 in c:\\users\\acer\\anaconda3\\lib\\site-packages (from importlib-metadata>=4.13.0->dask[complete]) (3.11.0)\n",
      "Requirement already satisfied: locket in c:\\users\\acer\\anaconda3\\lib\\site-packages (from partd>=1.2.0->dask[complete]) (1.0.0)\n",
      "Requirement already satisfied: numpy>=1.16.6 in c:\\users\\acer\\anaconda3\\lib\\site-packages (from pyarrow>=7.0->dask[complete]) (1.24.3)\n",
      "Requirement already satisfied: pandas>=1.3 in c:\\users\\acer\\anaconda3\\lib\\site-packages (from dask[complete]) (2.0.0)\n",
      "Requirement already satisfied: bokeh>=2.4.2 in c:\\users\\acer\\anaconda3\\lib\\site-packages (from dask[complete]) (3.2.1)\n",
      "Requirement already satisfied: jinja2>=2.10.3 in c:\\users\\acer\\anaconda3\\lib\\site-packages (from dask[complete]) (3.1.2)\n",
      "Requirement already satisfied: distributed==2023.6.0 in c:\\users\\acer\\anaconda3\\lib\\site-packages (from dask[complete]) (2023.6.0)\n",
      "Requirement already satisfied: msgpack>=1.0.0 in c:\\users\\acer\\anaconda3\\lib\\site-packages (from distributed==2023.6.0->dask[complete]) (1.0.3)\n",
      "Requirement already satisfied: psutil>=5.7.2 in c:\\users\\acer\\anaconda3\\lib\\site-packages (from distributed==2023.6.0->dask[complete]) (5.9.0)\n",
      "Requirement already satisfied: sortedcontainers>=2.0.5 in c:\\users\\acer\\anaconda3\\lib\\site-packages (from distributed==2023.6.0->dask[complete]) (2.4.0)\n",
      "Requirement already satisfied: tblib>=1.6.0 in c:\\users\\acer\\anaconda3\\lib\\site-packages (from distributed==2023.6.0->dask[complete]) (1.7.0)\n",
      "Requirement already satisfied: tornado>=6.0.4 in c:\\users\\acer\\anaconda3\\lib\\site-packages (from distributed==2023.6.0->dask[complete]) (6.3.2)\n",
      "Requirement already satisfied: urllib3>=1.24.3 in c:\\users\\acer\\anaconda3\\lib\\site-packages (from distributed==2023.6.0->dask[complete]) (1.26.16)\n",
      "Requirement already satisfied: zict>=2.2.0 in c:\\users\\acer\\anaconda3\\lib\\site-packages (from distributed==2023.6.0->dask[complete]) (2.2.0)\n",
      "Requirement already satisfied: contourpy>=1 in c:\\users\\acer\\anaconda3\\lib\\site-packages (from bokeh>=2.4.2->dask[complete]) (1.0.5)\n",
      "Requirement already satisfied: pillow>=7.1.0 in c:\\users\\acer\\anaconda3\\lib\\site-packages (from bokeh>=2.4.2->dask[complete]) (9.4.0)\n",
      "Requirement already satisfied: xyzservices>=2021.09.1 in c:\\users\\acer\\anaconda3\\lib\\site-packages (from bokeh>=2.4.2->dask[complete]) (2022.9.0)\n",
      "Requirement already satisfied: MarkupSafe>=2.0 in c:\\users\\acer\\anaconda3\\lib\\site-packages (from jinja2>=2.10.3->dask[complete]) (2.1.1)\n",
      "Requirement already satisfied: python-dateutil>=2.8.2 in c:\\users\\acer\\anaconda3\\lib\\site-packages (from pandas>=1.3->dask[complete]) (2.8.2)\n",
      "Requirement already satisfied: pytz>=2020.1 in c:\\users\\acer\\anaconda3\\lib\\site-packages (from pandas>=1.3->dask[complete]) (2023.3.post1)\n",
      "Requirement already satisfied: tzdata>=2022.1 in c:\\users\\acer\\anaconda3\\lib\\site-packages (from pandas>=1.3->dask[complete]) (2023.3)\n",
      "Requirement already satisfied: six>=1.5 in c:\\users\\acer\\anaconda3\\lib\\site-packages (from python-dateutil>=2.8.2->pandas>=1.3->dask[complete]) (1.16.0)\n",
      "Requirement already satisfied: heapdict in c:\\users\\acer\\anaconda3\\lib\\site-packages (from zict>=2.2.0->distributed==2023.6.0->dask[complete]) (1.0.1)\n",
      "Collecting dask-ml\n",
      "  Downloading dask_ml-2023.3.24-py3-none-any.whl (148 kB)\n",
      "     ---------------------------------------- 0.0/148.7 kB ? eta -:--:--\n",
      "     -- ------------------------------------- 10.2/148.7 kB ? eta -:--:--\n",
      "     ------- ----------------------------- 30.7/148.7 kB 330.3 kB/s eta 0:00:01\n",
      "     ------------------------------------ - 143.4/148.7 kB 1.2 MB/s eta 0:00:01\n",
      "     -------------------------------------- 148.7/148.7 kB 1.1 MB/s eta 0:00:00\n",
      "Requirement already satisfied: dask[array,dataframe]>=2.4.0 in c:\\users\\acer\\anaconda3\\lib\\site-packages (from dask-ml) (2023.6.0)\n",
      "Requirement already satisfied: distributed>=2.4.0 in c:\\users\\acer\\anaconda3\\lib\\site-packages (from dask-ml) (2023.6.0)\n",
      "Requirement already satisfied: numba>=0.51.0 in c:\\users\\acer\\anaconda3\\lib\\site-packages (from dask-ml) (0.57.1)\n",
      "Requirement already satisfied: numpy>=1.20.0 in c:\\users\\acer\\anaconda3\\lib\\site-packages (from dask-ml) (1.24.3)\n",
      "Requirement already satisfied: pandas>=0.24.2 in c:\\users\\acer\\anaconda3\\lib\\site-packages (from dask-ml) (2.0.0)\n",
      "Requirement already satisfied: scikit-learn>=1.2.0 in c:\\users\\acer\\anaconda3\\lib\\site-packages (from dask-ml) (1.3.1)\n",
      "Requirement already satisfied: scipy in c:\\users\\acer\\anaconda3\\lib\\site-packages (from dask-ml) (1.11.1)\n",
      "Collecting dask-glm>=0.2.0 (from dask-ml)\n",
      "  Obtaining dependency information for dask-glm>=0.2.0 from https://files.pythonhosted.org/packages/4f/73/ad1a7b3a11fa37db0807a9f521dfaeefedc728a2d8cae3d2b071ad4136f3/dask_glm-0.3.0-py2.py3-none-any.whl.metadata\n",
      "  Downloading dask_glm-0.3.0-py2.py3-none-any.whl.metadata (1.5 kB)\n",
      "Requirement already satisfied: multipledispatch>=0.4.9 in c:\\users\\acer\\anaconda3\\lib\\site-packages (from dask-ml) (0.6.0)\n",
      "Requirement already satisfied: packaging in c:\\users\\acer\\anaconda3\\lib\\site-packages (from dask-ml) (23.1)\n",
      "Requirement already satisfied: cloudpickle>=0.2.2 in c:\\users\\acer\\anaconda3\\lib\\site-packages (from dask-glm>=0.2.0->dask-ml) (2.2.1)\n",
      "Collecting sparse>=0.7.0 (from dask-glm>=0.2.0->dask-ml)\n",
      "  Downloading sparse-0.14.0-py2.py3-none-any.whl (80 kB)\n",
      "     ---------------------------------------- 0.0/81.0 kB ? eta -:--:--\n",
      "     ---------------------------------------- 81.0/81.0 kB ? eta 0:00:00\n",
      "Requirement already satisfied: click>=8.0 in c:\\users\\acer\\anaconda3\\lib\\site-packages (from dask[array,dataframe]>=2.4.0->dask-ml) (8.0.4)\n",
      "Requirement already satisfied: fsspec>=2021.09.0 in c:\\users\\acer\\anaconda3\\lib\\site-packages (from dask[array,dataframe]>=2.4.0->dask-ml) (2023.4.0)\n",
      "Requirement already satisfied: partd>=1.2.0 in c:\\users\\acer\\anaconda3\\lib\\site-packages (from dask[array,dataframe]>=2.4.0->dask-ml) (1.4.0)\n",
      "Requirement already satisfied: pyyaml>=5.3.1 in c:\\users\\acer\\anaconda3\\lib\\site-packages (from dask[array,dataframe]>=2.4.0->dask-ml) (6.0)\n",
      "Requirement already satisfied: toolz>=0.10.0 in c:\\users\\acer\\anaconda3\\lib\\site-packages (from dask[array,dataframe]>=2.4.0->dask-ml) (0.12.0)\n",
      "Requirement already satisfied: importlib-metadata>=4.13.0 in c:\\users\\acer\\anaconda3\\lib\\site-packages (from dask[array,dataframe]>=2.4.0->dask-ml) (6.0.0)\n",
      "Requirement already satisfied: jinja2>=2.10.3 in c:\\users\\acer\\anaconda3\\lib\\site-packages (from distributed>=2.4.0->dask-ml) (3.1.2)\n",
      "Requirement already satisfied: locket>=1.0.0 in c:\\users\\acer\\anaconda3\\lib\\site-packages (from distributed>=2.4.0->dask-ml) (1.0.0)\n",
      "Requirement already satisfied: msgpack>=1.0.0 in c:\\users\\acer\\anaconda3\\lib\\site-packages (from distributed>=2.4.0->dask-ml) (1.0.3)\n",
      "Requirement already satisfied: psutil>=5.7.2 in c:\\users\\acer\\anaconda3\\lib\\site-packages (from distributed>=2.4.0->dask-ml) (5.9.0)\n",
      "Requirement already satisfied: sortedcontainers>=2.0.5 in c:\\users\\acer\\anaconda3\\lib\\site-packages (from distributed>=2.4.0->dask-ml) (2.4.0)\n",
      "Requirement already satisfied: tblib>=1.6.0 in c:\\users\\acer\\anaconda3\\lib\\site-packages (from distributed>=2.4.0->dask-ml) (1.7.0)\n",
      "Requirement already satisfied: tornado>=6.0.4 in c:\\users\\acer\\anaconda3\\lib\\site-packages (from distributed>=2.4.0->dask-ml) (6.3.2)\n",
      "Requirement already satisfied: urllib3>=1.24.3 in c:\\users\\acer\\anaconda3\\lib\\site-packages (from distributed>=2.4.0->dask-ml) (1.26.16)\n",
      "Requirement already satisfied: zict>=2.2.0 in c:\\users\\acer\\anaconda3\\lib\\site-packages (from distributed>=2.4.0->dask-ml) (2.2.0)\n",
      "Requirement already satisfied: six in c:\\users\\acer\\anaconda3\\lib\\site-packages (from multipledispatch>=0.4.9->dask-ml) (1.16.0)\n",
      "Requirement already satisfied: llvmlite<0.41,>=0.40.0dev0 in c:\\users\\acer\\anaconda3\\lib\\site-packages (from numba>=0.51.0->dask-ml) (0.40.0)\n",
      "Requirement already satisfied: python-dateutil>=2.8.2 in c:\\users\\acer\\anaconda3\\lib\\site-packages (from pandas>=0.24.2->dask-ml) (2.8.2)\n",
      "Requirement already satisfied: pytz>=2020.1 in c:\\users\\acer\\anaconda3\\lib\\site-packages (from pandas>=0.24.2->dask-ml) (2023.3.post1)\n",
      "Requirement already satisfied: tzdata>=2022.1 in c:\\users\\acer\\anaconda3\\lib\\site-packages (from pandas>=0.24.2->dask-ml) (2023.3)\n",
      "Requirement already satisfied: joblib>=1.1.1 in c:\\users\\acer\\anaconda3\\lib\\site-packages (from scikit-learn>=1.2.0->dask-ml) (1.2.0)\n",
      "Requirement already satisfied: threadpoolctl>=2.0.0 in c:\\users\\acer\\anaconda3\\lib\\site-packages (from scikit-learn>=1.2.0->dask-ml) (2.2.0)\n",
      "Requirement already satisfied: colorama in c:\\users\\acer\\anaconda3\\lib\\site-packages (from click>=8.0->dask[array,dataframe]>=2.4.0->dask-ml) (0.4.6)\n",
      "Requirement already satisfied: zipp>=0.5 in c:\\users\\acer\\anaconda3\\lib\\site-packages (from importlib-metadata>=4.13.0->dask[array,dataframe]>=2.4.0->dask-ml) (3.11.0)\n",
      "Requirement already satisfied: MarkupSafe>=2.0 in c:\\users\\acer\\anaconda3\\lib\\site-packages (from jinja2>=2.10.3->distributed>=2.4.0->dask-ml) (2.1.1)\n",
      "Requirement already satisfied: heapdict in c:\\users\\acer\\anaconda3\\lib\\site-packages (from zict>=2.2.0->distributed>=2.4.0->dask-ml) (1.0.1)\n",
      "Downloading dask_glm-0.3.0-py2.py3-none-any.whl (13 kB)\n",
      "Installing collected packages: sparse, dask-glm, dask-ml\n",
      "Successfully installed dask-glm-0.3.0 dask-ml-2023.3.24 sparse-0.14.0\n"
     ]
    }
   ],
   "source": [
    "!pip install dask[complete]\n",
    "!pip install dask-ml"
   ]
  },
  {
   "cell_type": "code",
   "execution_count": 2,
   "id": "c843c6fe-5d82-4721-b2cc-701af3e0857a",
   "metadata": {
    "tags": []
   },
   "outputs": [],
   "source": [
    "import dask\n",
    "import dask.dataframe as dd\n",
    "import dask_ml"
   ]
  },
  {
   "cell_type": "markdown",
   "id": "3038fab1-39ab-4f17-ac30-74d3a441748c",
   "metadata": {},
   "source": [
    "Initializing DASK instance"
   ]
  },
  {
   "cell_type": "code",
   "execution_count": 3,
   "id": "62f19edb-5f78-4ad4-a101-55cd14c5e6c7",
   "metadata": {
    "tags": []
   },
   "outputs": [],
   "source": [
    "from dask.distributed import Client\n",
    "\n",
    "client = Client(n_workers = 6, threads_per_worker = 1)"
   ]
  }
 ],
 "metadata": {
  "kernelspec": {
   "display_name": "Python 3 (ipykernel)",
   "language": "python",
   "name": "python3"
  },
  "language_info": {
   "codemirror_mode": {
    "name": "ipython",
    "version": 3
   },
   "file_extension": ".py",
   "mimetype": "text/x-python",
   "name": "python",
   "nbconvert_exporter": "python",
   "pygments_lexer": "ipython3",
   "version": "3.11.5"
  }
 },
 "nbformat": 4,
 "nbformat_minor": 5
}
