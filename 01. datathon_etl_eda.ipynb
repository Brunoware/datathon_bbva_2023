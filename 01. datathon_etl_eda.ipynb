{
 "cells": [
  {
   "cell_type": "code",
   "execution_count": 4,
   "id": "221b2fad-ce7e-4577-9af8-a2b560ebee60",
   "metadata": {
    "collapsed": true,
    "jupyter": {
     "outputs_hidden": true
    },
    "tags": []
   },
   "outputs": [],
   "source": [
    "#!pip install dask[complete]\n",
    "#!pip install dask-ml"
   ]
  },
  {
   "cell_type": "code",
   "execution_count": 13,
   "id": "754bb119-a955-4a48-b907-df503736bab7",
   "metadata": {
    "tags": []
   },
   "outputs": [
    {
     "name": "stdout",
     "output_type": "stream",
     "text": [
      "Collecting graphviz\n",
      "  Using cached graphviz-0.20.1-py3-none-any.whl (47 kB)\n",
      "Installing collected packages: graphviz\n",
      "Successfully installed graphviz-0.20.1\n"
     ]
    }
   ],
   "source": [
    "#!pip install graphviz"
   ]
  },
  {
   "cell_type": "code",
   "execution_count": 1,
   "id": "c843c6fe-5d82-4721-b2cc-701af3e0857a",
   "metadata": {
    "tags": []
   },
   "outputs": [],
   "source": [
    "import dask\n",
    "import dask.dataframe as dd\n",
    "import dask_ml"
   ]
  },
  {
   "cell_type": "markdown",
   "id": "3038fab1-39ab-4f17-ac30-74d3a441748c",
   "metadata": {},
   "source": [
    "Initializing DASK instance"
   ]
  },
  {
   "cell_type": "code",
   "execution_count": 2,
   "id": "62f19edb-5f78-4ad4-a101-55cd14c5e6c7",
   "metadata": {
    "tags": []
   },
   "outputs": [],
   "source": [
    "#from dask.distributed import Client\n",
    "\n",
    "#client = Client(n_workers = 4, threads_per_worker = 1)"
   ]
  },
  {
   "cell_type": "markdown",
   "id": "c3a66a55",
   "metadata": {},
   "source": [
    "Import datasets"
   ]
  },
  {
   "cell_type": "code",
   "execution_count": 19,
   "id": "5639082a-716d-4569-8417-4e035fbf5aba",
   "metadata": {
    "tags": []
   },
   "outputs": [
    {
     "data": {
      "text/html": [
       "<div>\n",
       "<style scoped>\n",
       "    .dataframe tbody tr th:only-of-type {\n",
       "        vertical-align: middle;\n",
       "    }\n",
       "\n",
       "    .dataframe tbody tr th {\n",
       "        vertical-align: top;\n",
       "    }\n",
       "\n",
       "    .dataframe thead th {\n",
       "        text-align: right;\n",
       "    }\n",
       "</style>\n",
       "<table border=\"1\" class=\"dataframe\">\n",
       "  <thead>\n",
       "    <tr style=\"text-align: right;\">\n",
       "      <th></th>\n",
       "      <th>name</th>\n",
       "      <th>id</th>\n",
       "      <th>x</th>\n",
       "      <th>y</th>\n",
       "    </tr>\n",
       "    <tr>\n",
       "      <th>timestamp</th>\n",
       "      <th></th>\n",
       "      <th></th>\n",
       "      <th></th>\n",
       "      <th></th>\n",
       "    </tr>\n",
       "  </thead>\n",
       "  <tbody>\n",
       "    <tr>\n",
       "      <th>2000-01-01 00:00:00</th>\n",
       "      <td>Hannah</td>\n",
       "      <td>1046</td>\n",
       "      <td>-0.723518</td>\n",
       "      <td>-0.334364</td>\n",
       "    </tr>\n",
       "    <tr>\n",
       "      <th>2000-01-01 00:00:01</th>\n",
       "      <td>Xavier</td>\n",
       "      <td>992</td>\n",
       "      <td>-0.271904</td>\n",
       "      <td>-0.892154</td>\n",
       "    </tr>\n",
       "    <tr>\n",
       "      <th>2000-01-01 00:00:02</th>\n",
       "      <td>Sarah</td>\n",
       "      <td>988</td>\n",
       "      <td>0.254955</td>\n",
       "      <td>0.723734</td>\n",
       "    </tr>\n",
       "    <tr>\n",
       "      <th>2000-01-01 00:00:03</th>\n",
       "      <td>Michael</td>\n",
       "      <td>941</td>\n",
       "      <td>0.186864</td>\n",
       "      <td>-0.032053</td>\n",
       "    </tr>\n",
       "    <tr>\n",
       "      <th>2000-01-01 00:00:04</th>\n",
       "      <td>Ray</td>\n",
       "      <td>991</td>\n",
       "      <td>0.532549</td>\n",
       "      <td>0.886717</td>\n",
       "    </tr>\n",
       "  </tbody>\n",
       "</table>\n",
       "</div>"
      ],
      "text/plain": [
       "                        name    id         x         y\n",
       "timestamp                                             \n",
       "2000-01-01 00:00:00   Hannah  1046 -0.723518 -0.334364\n",
       "2000-01-01 00:00:01   Xavier   992 -0.271904 -0.892154\n",
       "2000-01-01 00:00:02    Sarah   988  0.254955  0.723734\n",
       "2000-01-01 00:00:03  Michael   941  0.186864 -0.032053\n",
       "2000-01-01 00:00:04      Ray   991  0.532549  0.886717"
      ]
     },
     "execution_count": 19,
     "metadata": {},
     "output_type": "execute_result"
    }
   ],
   "source": [
    "dask.datasets.timeseries().head()"
   ]
  },
  {
   "cell_type": "code",
   "execution_count": 10,
   "id": "cb5e446f",
   "metadata": {
    "tags": []
   },
   "outputs": [],
   "source": [
    "balances=dd.read_csv('databases/balances.csv',encoding='iso-8859-1')\n",
    "customers=dd.read_csv('databases/customers.csv',encoding='utf-8')\n",
    "digital=dd.read_csv('databases/digital.csv',encoding='utf-8')\n",
    "liabilities=dd.read_csv('databases/liabilities.csv',encoding='utf-8')\n",
    "movements=dd.read_csv('databases/movements.csv',encoding='utf-8')"
   ]
  },
  {
   "cell_type": "code",
   "execution_count": 3,
   "id": "f1a75f1a-9307-49ae-81b1-4cc3d1d84285",
   "metadata": {
    "tags": []
   },
   "outputs": [
    {
     "data": {
      "text/plain": [
       "0    3.4051\n",
       "1    3.4003\n",
       "2    3.0592\n",
       "3    2.8013\n",
       "4    2.9850\n",
       "Name: balance_amount, dtype: float64"
      ]
     },
     "execution_count": 3,
     "metadata": {},
     "output_type": "execute_result"
    }
   ],
   "source": [
    "balances.balance_amount.head()"
   ]
  },
  {
   "cell_type": "markdown",
   "id": "add3a222",
   "metadata": {},
   "source": [
    "Renamed 'product_1' and 'product_2' (repeated name)"
   ]
  },
  {
   "cell_type": "code",
   "execution_count": 5,
   "id": "ab672704",
   "metadata": {
    "tags": []
   },
   "outputs": [],
   "source": [
    "liabilities=liabilities.rename(columns={'product_1':'product_1_lia','product_2':'product_2_lia'})"
   ]
  },
  {
   "cell_type": "markdown",
   "id": "ae3677f0",
   "metadata": {},
   "source": [
    "Attrition information up to 'period_6'"
   ]
  },
  {
   "cell_type": "code",
   "execution_count": 26,
   "id": "8298177e",
   "metadata": {},
   "outputs": [],
   "source": [
    "u_train=dd.read_csv('datasets/universe_train.csv')\n",
    "u_train['train']=1"
   ]
  },
  {
   "cell_type": "code",
   "execution_count": 11,
   "id": "12864362-77c5-4d46-8c40-b6c9b54f36c4",
   "metadata": {
    "tags": []
   },
   "outputs": [
    {
     "data": {
      "text/html": [
       "<div>\n",
       "<style scoped>\n",
       "    .dataframe tbody tr th:only-of-type {\n",
       "        vertical-align: middle;\n",
       "    }\n",
       "\n",
       "    .dataframe tbody tr th {\n",
       "        vertical-align: top;\n",
       "    }\n",
       "\n",
       "    .dataframe thead th {\n",
       "        text-align: right;\n",
       "    }\n",
       "</style>\n",
       "<table border=\"1\" class=\"dataframe\">\n",
       "  <thead>\n",
       "    <tr style=\"text-align: right;\">\n",
       "      <th></th>\n",
       "      <th>month</th>\n",
       "      <th>ID</th>\n",
       "      <th>type</th>\n",
       "      <th>product</th>\n",
       "      <th>entity</th>\n",
       "      <th>balance_amount</th>\n",
       "      <th>days_default</th>\n",
       "      <th>period</th>\n",
       "    </tr>\n",
       "  </thead>\n",
       "  <tbody>\n",
       "    <tr>\n",
       "      <th>0</th>\n",
       "      <td>11</td>\n",
       "      <td>c844ef92b32ec94baaf565a3d22cfa20fd1544a0f8efab...</td>\n",
       "      <td>type_7</td>\n",
       "      <td>product_2</td>\n",
       "      <td>entity_2</td>\n",
       "      <td>3.4051</td>\n",
       "      <td>5.0</td>\n",
       "      <td>period_5</td>\n",
       "    </tr>\n",
       "    <tr>\n",
       "      <th>1</th>\n",
       "      <td>10</td>\n",
       "      <td>c817cb3a37a6b640304e87fafd7cd8569bfffb650a5aa3...</td>\n",
       "      <td>type_7</td>\n",
       "      <td>product_2</td>\n",
       "      <td>entity_1</td>\n",
       "      <td>3.4003</td>\n",
       "      <td>5.0</td>\n",
       "      <td>period_5</td>\n",
       "    </tr>\n",
       "    <tr>\n",
       "      <th>2</th>\n",
       "      <td>6</td>\n",
       "      <td>1d1f726d844c5a343cca1bbfd0c2b869559f5910772c5e...</td>\n",
       "      <td>type_7</td>\n",
       "      <td>product_2</td>\n",
       "      <td>entity_5</td>\n",
       "      <td>3.0592</td>\n",
       "      <td>5.0</td>\n",
       "      <td>period_5</td>\n",
       "    </tr>\n",
       "    <tr>\n",
       "      <th>3</th>\n",
       "      <td>6</td>\n",
       "      <td>7c77a3fd230db16988cb2e6ca23779c756f86895dfe254...</td>\n",
       "      <td>type_7</td>\n",
       "      <td>product_2</td>\n",
       "      <td>entity_2</td>\n",
       "      <td>2.8013</td>\n",
       "      <td>5.0</td>\n",
       "      <td>period_5</td>\n",
       "    </tr>\n",
       "    <tr>\n",
       "      <th>4</th>\n",
       "      <td>11</td>\n",
       "      <td>a8702fb4fbdcb735619d6fbd0a5fed46096cdaba80ea35...</td>\n",
       "      <td>type_7</td>\n",
       "      <td>product_2</td>\n",
       "      <td>entity_2</td>\n",
       "      <td>2.9850</td>\n",
       "      <td>5.0</td>\n",
       "      <td>period_5</td>\n",
       "    </tr>\n",
       "    <tr>\n",
       "      <th>...</th>\n",
       "      <td>...</td>\n",
       "      <td>...</td>\n",
       "      <td>...</td>\n",
       "      <td>...</td>\n",
       "      <td>...</td>\n",
       "      <td>...</td>\n",
       "      <td>...</td>\n",
       "      <td>...</td>\n",
       "    </tr>\n",
       "    <tr>\n",
       "      <th>579905</th>\n",
       "      <td>10</td>\n",
       "      <td>7952426c2251dcab1841046d9ba49e8b3d60342bc4381a...</td>\n",
       "      <td>type_3</td>\n",
       "      <td>product_2</td>\n",
       "      <td>entity_2</td>\n",
       "      <td>3.6418</td>\n",
       "      <td>0.0</td>\n",
       "      <td>period_2</td>\n",
       "    </tr>\n",
       "    <tr>\n",
       "      <th>579906</th>\n",
       "      <td>10</td>\n",
       "      <td>3592e8d69980501ef7a43677b85159d0e6fc295bea65e5...</td>\n",
       "      <td>type_3</td>\n",
       "      <td>product_2</td>\n",
       "      <td>entity_2</td>\n",
       "      <td>3.3982</td>\n",
       "      <td>0.0</td>\n",
       "      <td>period_2</td>\n",
       "    </tr>\n",
       "    <tr>\n",
       "      <th>579907</th>\n",
       "      <td>7</td>\n",
       "      <td>e396c97349ecf10cf524da133ab66a6656fabfe9de31f0...</td>\n",
       "      <td>type_3</td>\n",
       "      <td>product_2</td>\n",
       "      <td>entity_2</td>\n",
       "      <td>3.4423</td>\n",
       "      <td>0.0</td>\n",
       "      <td>period_2</td>\n",
       "    </tr>\n",
       "    <tr>\n",
       "      <th>579908</th>\n",
       "      <td>2</td>\n",
       "      <td>8cb2928db5f38eb3274d87056e57bfe2d9b8db9d1c47f0...</td>\n",
       "      <td>type_3</td>\n",
       "      <td>product_2</td>\n",
       "      <td>entity_2</td>\n",
       "      <td>3.2748</td>\n",
       "      <td>0.0</td>\n",
       "      <td>period_2</td>\n",
       "    </tr>\n",
       "    <tr>\n",
       "      <th>579909</th>\n",
       "      <td>1</td>\n",
       "      <td>6253ca11d4aaf18514abfec8cf6ab60cd133400bff6b9b...</td>\n",
       "      <td>type_3</td>\n",
       "      <td>product_2</td>\n",
       "      <td>entity_2</td>\n",
       "      <td>2.6282</td>\n",
       "      <td>0.0</td>\n",
       "      <td>period_2</td>\n",
       "    </tr>\n",
       "  </tbody>\n",
       "</table>\n",
       "<p>11597785 rows × 8 columns</p>\n",
       "</div>"
      ],
      "text/plain": [
       "        month                                                 ID    type   \n",
       "0          11  c844ef92b32ec94baaf565a3d22cfa20fd1544a0f8efab...  type_7  \\\n",
       "1          10  c817cb3a37a6b640304e87fafd7cd8569bfffb650a5aa3...  type_7   \n",
       "2           6  1d1f726d844c5a343cca1bbfd0c2b869559f5910772c5e...  type_7   \n",
       "3           6  7c77a3fd230db16988cb2e6ca23779c756f86895dfe254...  type_7   \n",
       "4          11  a8702fb4fbdcb735619d6fbd0a5fed46096cdaba80ea35...  type_7   \n",
       "...       ...                                                ...     ...   \n",
       "579905     10  7952426c2251dcab1841046d9ba49e8b3d60342bc4381a...  type_3   \n",
       "579906     10  3592e8d69980501ef7a43677b85159d0e6fc295bea65e5...  type_3   \n",
       "579907      7  e396c97349ecf10cf524da133ab66a6656fabfe9de31f0...  type_3   \n",
       "579908      2  8cb2928db5f38eb3274d87056e57bfe2d9b8db9d1c47f0...  type_3   \n",
       "579909      1  6253ca11d4aaf18514abfec8cf6ab60cd133400bff6b9b...  type_3   \n",
       "\n",
       "          product    entity  balance_amount  days_default    period  \n",
       "0       product_2  entity_2          3.4051           5.0  period_5  \n",
       "1       product_2  entity_1          3.4003           5.0  period_5  \n",
       "2       product_2  entity_5          3.0592           5.0  period_5  \n",
       "3       product_2  entity_2          2.8013           5.0  period_5  \n",
       "4       product_2  entity_2          2.9850           5.0  period_5  \n",
       "...           ...       ...             ...           ...       ...  \n",
       "579905  product_2  entity_2          3.6418           0.0  period_2  \n",
       "579906  product_2  entity_2          3.3982           0.0  period_2  \n",
       "579907  product_2  entity_2          3.4423           0.0  period_2  \n",
       "579908  product_2  entity_2          3.2748           0.0  period_2  \n",
       "579909  product_2  entity_2          2.6282           0.0  period_2  \n",
       "\n",
       "[11597785 rows x 8 columns]"
      ]
     },
     "execution_count": 11,
     "metadata": {},
     "output_type": "execute_result"
    }
   ],
   "source": [
    "balances.persist().compute()"
   ]
  },
  {
   "cell_type": "code",
   "execution_count": 5,
   "id": "70efa0f5",
   "metadata": {
    "tags": []
   },
   "outputs": [
    {
     "ename": "AttributeError",
     "evalue": "'DataFrame' object has no attribute 'compute'",
     "output_type": "error",
     "traceback": [
      "\u001b[1;31m---------------------------------------------------------------------------\u001b[0m",
      "\u001b[1;31mAttributeError\u001b[0m                            Traceback (most recent call last)",
      "\u001b[1;32m~\\AppData\\Local\\Temp\\ipykernel_56424\\4054445638.py\u001b[0m in \u001b[0;36m?\u001b[1;34m()\u001b[0m\n\u001b[0;32m      1\u001b[0m \u001b[0mdf\u001b[0m\u001b[1;33m=\u001b[0m\u001b[0mbalances\u001b[0m\u001b[1;33m.\u001b[0m\u001b[0mhead\u001b[0m\u001b[1;33m(\u001b[0m\u001b[1;33m)\u001b[0m\u001b[1;33m\u001b[0m\u001b[1;33m\u001b[0m\u001b[0m\n\u001b[1;32m----> 2\u001b[1;33m \u001b[0mresult_df\u001b[0m \u001b[1;33m=\u001b[0m \u001b[0mdf\u001b[0m\u001b[1;33m.\u001b[0m\u001b[0mcompute\u001b[0m\u001b[1;33m(\u001b[0m\u001b[1;33m)\u001b[0m\u001b[1;33m\u001b[0m\u001b[1;33m\u001b[0m\u001b[0m\n\u001b[0m",
      "\u001b[1;32m~\\anaconda3\\Lib\\site-packages\\pandas\\core\\generic.py\u001b[0m in \u001b[0;36m?\u001b[1;34m(self, name)\u001b[0m\n\u001b[0;32m   5985\u001b[0m             \u001b[1;32mand\u001b[0m \u001b[0mname\u001b[0m \u001b[1;32mnot\u001b[0m \u001b[1;32min\u001b[0m \u001b[0mself\u001b[0m\u001b[1;33m.\u001b[0m\u001b[0m_accessors\u001b[0m\u001b[1;33m\u001b[0m\u001b[1;33m\u001b[0m\u001b[0m\n\u001b[0;32m   5986\u001b[0m             \u001b[1;32mand\u001b[0m \u001b[0mself\u001b[0m\u001b[1;33m.\u001b[0m\u001b[0m_info_axis\u001b[0m\u001b[1;33m.\u001b[0m\u001b[0m_can_hold_identifiers_and_holds_name\u001b[0m\u001b[1;33m(\u001b[0m\u001b[0mname\u001b[0m\u001b[1;33m)\u001b[0m\u001b[1;33m\u001b[0m\u001b[1;33m\u001b[0m\u001b[0m\n\u001b[0;32m   5987\u001b[0m         ):\n\u001b[0;32m   5988\u001b[0m             \u001b[1;32mreturn\u001b[0m \u001b[0mself\u001b[0m\u001b[1;33m[\u001b[0m\u001b[0mname\u001b[0m\u001b[1;33m]\u001b[0m\u001b[1;33m\u001b[0m\u001b[1;33m\u001b[0m\u001b[0m\n\u001b[1;32m-> 5989\u001b[1;33m         \u001b[1;32mreturn\u001b[0m \u001b[0mobject\u001b[0m\u001b[1;33m.\u001b[0m\u001b[0m__getattribute__\u001b[0m\u001b[1;33m(\u001b[0m\u001b[0mself\u001b[0m\u001b[1;33m,\u001b[0m \u001b[0mname\u001b[0m\u001b[1;33m)\u001b[0m\u001b[1;33m\u001b[0m\u001b[1;33m\u001b[0m\u001b[0m\n\u001b[0m",
      "\u001b[1;31mAttributeError\u001b[0m: 'DataFrame' object has no attribute 'compute'"
     ]
    }
   ],
   "source": [
    "df=balances.head()\n",
    "result_df = df.compute()"
   ]
  },
  {
   "cell_type": "code",
   "execution_count": null,
   "id": "cad48524",
   "metadata": {},
   "outputs": [],
   "source": []
  }
 ],
 "metadata": {
  "kernelspec": {
   "display_name": "Python 3 (ipykernel)",
   "language": "python",
   "name": "python3"
  },
  "language_info": {
   "codemirror_mode": {
    "name": "ipython",
    "version": 3
   },
   "file_extension": ".py",
   "mimetype": "text/x-python",
   "name": "python",
   "nbconvert_exporter": "python",
   "pygments_lexer": "ipython3",
   "version": "3.11.5"
  }
 },
 "nbformat": 4,
 "nbformat_minor": 5
}
