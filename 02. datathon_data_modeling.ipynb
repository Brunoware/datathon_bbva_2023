{
 "cells": [
  {
   "cell_type": "code",
   "execution_count": 13,
   "metadata": {},
   "outputs": [],
   "source": [
    "import pandas as pd\n",
    "import numpy as np"
   ]
  },
  {
   "cell_type": "markdown",
   "metadata": {},
   "source": [
    "Split in categorical and numerical variables"
   ]
  },
  {
   "cell_type": "code",
   "execution_count": 14,
   "metadata": {},
   "outputs": [],
   "source": [
    "df=pd.read_csv('datasets/train_table.csv',low_memory=False,index_col='ID')\n",
    "\n",
    "y=df['attrition']\n",
    "X=df.drop(columns='attrition')\n",
    "\n",
    "# Create a DataFrame with numeric columns\n",
    "X_numeric = X.select_dtypes(include=['number'])\n",
    "\n",
    "# Create a DataFrame with object (categorical) columns\n",
    "X_categorical = X.select_dtypes(include=['object'])\n"
   ]
  },
  {
   "cell_type": "code",
   "execution_count": 15,
   "metadata": {},
   "outputs": [],
   "source": [
    "from sklearn.base import BaseEstimator,TransformerMixin\n",
    "class SelectCatColumns (BaseEstimator,TransformerMixin):\n",
    "    def __init__(self,list_columns):\n",
    "        self.list_columns=list_columns\n",
    "    def fit(self,X,y=None):\n",
    "        return self\n",
    "    def transform (self,X):\n",
    "        return X[self.list_columns]"
   ]
  },
  {
   "cell_type": "code",
   "execution_count": 16,
   "metadata": {},
   "outputs": [],
   "source": [
    "from sklearn.compose import ColumnTransformer\n",
    "from sklearn.preprocessing import OneHotEncoder, StandardScaler\n",
    "\n",
    "num_cols=X_numeric.columns.tolist()\n",
    "cat_cols=X_categorical.columns.tolist()"
   ]
  },
  {
   "cell_type": "code",
   "execution_count": 17,
   "metadata": {},
   "outputs": [],
   "source": [
    "flag_cat=X_categorical.describe().T\n",
    "flag_cat['ratio']=flag_cat['freq']/flag_cat['count']\n",
    "flag_cat['flag_delete']=np.where(flag_cat['ratio']>0.7,1,0)"
   ]
  },
  {
   "cell_type": "code",
   "execution_count": 18,
   "metadata": {},
   "outputs": [],
   "source": [
    "col_st=flag_cat.loc[flag_cat['flag_delete']==0].index.to_list()"
   ]
  },
  {
   "cell_type": "code",
   "execution_count": 19,
   "metadata": {},
   "outputs": [
    {
     "data": {
      "text/plain": [
       "['product', 'entity', 'period', 'type_job', 'bureau_risk', 'product_1']"
      ]
     },
     "execution_count": 19,
     "metadata": {},
     "output_type": "execute_result"
    }
   ],
   "source": [
    "col_st"
   ]
  },
  {
   "cell_type": "code",
   "execution_count": 20,
   "metadata": {},
   "outputs": [],
   "source": [
    "df_categorical=X_categorical[col_st]#.describe().T"
   ]
  },
  {
   "cell_type": "code",
   "execution_count": 21,
   "metadata": {},
   "outputs": [],
   "source": [
    "import pandas as pd\n",
    "from sklearn.compose import ColumnTransformer\n",
    "from sklearn.preprocessing import OneHotEncoder, StandardScaler,MinMaxScaler\n",
    "from sklearn.pipeline import Pipeline\n",
    "\n",
    "# pipecat=Pipeline([('feature',SelectCatColumns(col_st)),\n",
    "#                   ('encoding',OneHotEncoder(handle_unknown='ignore',sparse=False,sparse_output=False).set_output(transform='pandas'))])\n",
    "\n",
    "# Supongamos que tienes un DataFrame llamado 'data' con las columnas que deseas transformar\n",
    "\n",
    "# Definir las columnas categóricas y numéricas\n",
    "categorical_columns = ['product', 'entity', 'period', 'type_job', 'bureau_risk', 'product_1']\n",
    "numeric_columns = num_cols  # Agrega tus columnas numéricas aquí\n",
    "\n",
    "# Crear un ColumnTransformer\n",
    "preprocessor = ColumnTransformer(\n",
    "    transformers=[\n",
    "        ('num','passthrough', numeric_columns),\n",
    "        ('cat', OneHotEncoder(handle_unknown='ignore',sparse=False,sparse_output=False).set_output(transform='pandas'), categorical_columns),\n",
    "    ],\n",
    "    remainder='drop',\n",
    "    n_jobs=-1\n",
    ")\n",
    "\n",
    "# Aplicar la transformación y configurar la salida en formato Pandas\n",
    "preprocessor.set_output(transform='pandas')\n",
    "X_tr = preprocessor.fit_transform(X)\n",
    "\n",
    "# Ahora, data_transformed contendrá las columnas transformadas con one-hot encoding y StandardScaler en formato Pandas\n"
   ]
  },
  {
   "cell_type": "code",
   "execution_count": null,
   "metadata": {},
   "outputs": [],
   "source": [
    "#Feature Engineering\n",
    "class Feature_creation(BaseEstimator, TransformerMixin):\n",
    "    def __init__(self, mean_balance_amount = None, total_outcome = None,outcome_ratio = None,saving_ratio = None):\n",
    "        self.feature_methods = [\n",
    "            ('create_mean_balance_amount', mean_balance_amount),\n",
    "            ('create_total_outcome', total_outcome),\n",
    "            ('create_outcome_ratio', outcome_ratio),\n",
    "            ('create_saving_ratio', saving_ratio),\n",
    "        ]\n",
    "        \n",
    "        \n",
    "    def create_mean_balance_amount(self, X):\n",
    "        X['mean_balance_amount'] = X['num__balance_amount']/X['num__month']\n",
    "        X['mean_balance_amount']=X['mean_balance_amount'].fillna(0)\n",
    "        X['mean_balance_amount']=X['mean_balance_amount'].replace([np.inf,-np.inf],0)\n",
    "        return X\n",
    "    \n",
    "    def create_total_outcome(self, X):\n",
    "        X['total_outcome'] = (X['num__type_1']+X['num__type_2']+X['num__type_3']+X['num__type_4'])/X['num__month']\n",
    "        X['total_outcome']=X['total_outcome'].fillna(0)\n",
    "        X['total_outcome']=X['total_outcome'].replace([np.inf,-np.inf],0)\n",
    "        return X\n",
    "    \n",
    "    def create_outcome_ratio(self, X):\n",
    "        X['outcome_ratio'] = (X['num__type_1']+X['num__type_2']+X['num__type_3']+X['num__type_4'])/X['num__income']\n",
    "        X['outcome_ratio']=X['outcome_ratio'].fillna(0)\n",
    "        X['outcome_ratio']=X['outcome_ratio'].replace([np.inf,-np.inf],0)\n",
    "        return X\n",
    "    \n",
    "    def create_saving_ratio(self, X):\n",
    "        X['saving_ratio'] = X['num__product_1_lia']/X['num__income']\n",
    "        X['saving_ratio']=X['saving_ratio'].fillna(0)\n",
    "        X['saving_ratio']=X['saving_ratio'].replace([np.inf,-np.inf],0)\n",
    "        return X\n",
    "\n",
    "  \n",
    "    def fit(self, X, y = None):\n",
    "        return self\n",
    "    def transform(self, X, y = None):\n",
    "        for method_name, apply_method in self.feature_methods:\n",
    "            if apply_method:\n",
    "                method = getattr(self, method_name)\n",
    "                X = method(X)\n",
    "        return X"
   ]
  },
  {
   "cell_type": "code",
   "execution_count": 26,
   "metadata": {},
   "outputs": [],
   "source": [
    "# Creating a bunch of features so that we will discard some of them afterwards\n",
    "feature_creator = Feature_creation(mean_balance_amount = True, \n",
    "                                   total_outcome = True,  \n",
    "                                   outcome_ratio = True,\n",
    "                                   saving_ratio = True)\n",
    "clients_db = feature_creator.transform(X_tr)"
   ]
  },
  {
   "cell_type": "code",
   "execution_count": null,
   "metadata": {},
   "outputs": [],
   "source": [
    "#Feature Importance\n",
    "class Feature_importance(BaseEstimator, TransformerMixin):\n",
    "    def __init__(self, white_noise = None, f_importance = None):\n",
    "        self.feature_methods = [\n",
    "            ('create_white_noise', white_noise),\n",
    "            ('create_feature_importance', f_importance)\n",
    "        ]\n",
    "        \n",
    "    def create_white_noise(self, X):\n",
    "        np.random.seed(42)  \n",
    "        nueva_columna = np.random.randint(2, size=len(X))\n",
    "        X['ruido'] = nueva_columna\n",
    "        return X\n",
    "    \n",
    "    def create_feature_importance(self, X):\n",
    "        import seaborn as sns\n",
    "        import matplotlib.pyplot as plt\n",
    "        from sklearn.ensemble import RandomForestClassifier\n",
    "\n",
    "        modelo_rf = RandomForestClassifier(n_estimators=50,class_weight='balanced', random_state=42,max_depth=5)\n",
    "\n",
    "        \n",
    "        modelo_rf.fit(X_tr,y)\n",
    "\n",
    "        importancia_caracteristicas=modelo_rf.feature_importances_\n",
    "\n",
    "\n",
    "        importancia_df=pd.DataFrame({'Caracteristica':X_tr.columns,'importancia':importancia_caracteristicas})\n",
    "        importancia_df=importancia_df.sort_values(by='importancia',ascending=False)\n",
    "        return X\n",
    "    \n",
    "    \n",
    "\n",
    "    \n",
    "  \n",
    "    def fit(self, X, y = None):\n",
    "        return self\n",
    "    def transform(self, X, y = None):\n",
    "        for method_name, apply_method in self.feature_methods:\n",
    "            if apply_method:\n",
    "                method = getattr(self, method_name)\n",
    "                X = method(X)\n",
    "        return X"
   ]
  },
  {
   "cell_type": "code",
   "execution_count": 41,
   "metadata": {},
   "outputs": [],
   "source": [
    "#RUIDO BLANCO\n"
   ]
  },
  {
   "cell_type": "code",
   "execution_count": 42,
   "metadata": {},
   "outputs": [],
   "source": [
    "import seaborn as sns\n",
    "import matplotlib.pyplot as plt\n",
    "from sklearn.ensemble import RandomForestClassifier\n",
    "\n",
    "modelo_rf = RandomForestClassifier(n_estimators=50,class_weight='balanced', random_state=42,max_depth=5)\n",
    "\n",
    "X_tr=X_tr.astype('float32')\n",
    "X_tr=X_tr.fillna(0)\n",
    "X_tr=X_tr.replace([np.inf,-np.inf],0)\n",
    "modelo_rf.fit(X_tr,y)\n",
    "\n",
    "importancia_caracteristicas=modelo_rf.feature_importances_\n",
    "\n",
    "\n",
    "importancia_df=pd.DataFrame({'Caracteristica':X_tr.columns,'importancia':importancia_caracteristicas})\n",
    "importancia_df=importancia_df.sort_values(by='importancia',ascending=False)"
   ]
  },
  {
   "cell_type": "code",
   "execution_count": 51,
   "metadata": {},
   "outputs": [
    {
     "data": {
      "text/html": [
       "<div>\n",
       "<style scoped>\n",
       "    .dataframe tbody tr th:only-of-type {\n",
       "        vertical-align: middle;\n",
       "    }\n",
       "\n",
       "    .dataframe tbody tr th {\n",
       "        vertical-align: top;\n",
       "    }\n",
       "\n",
       "    .dataframe thead th {\n",
       "        text-align: right;\n",
       "    }\n",
       "</style>\n",
       "<table border=\"1\" class=\"dataframe\">\n",
       "  <thead>\n",
       "    <tr style=\"text-align: right;\">\n",
       "      <th></th>\n",
       "      <th>Caracteristica</th>\n",
       "      <th>importancia</th>\n",
       "    </tr>\n",
       "  </thead>\n",
       "  <tbody>\n",
       "    <tr>\n",
       "      <th>58</th>\n",
       "      <td>cat__product_1_No</td>\n",
       "      <td>0.220863</td>\n",
       "    </tr>\n",
       "    <tr>\n",
       "      <th>59</th>\n",
       "      <td>cat__product_1_Yes</td>\n",
       "      <td>0.205401</td>\n",
       "    </tr>\n",
       "    <tr>\n",
       "      <th>11</th>\n",
       "      <td>num__product_1_lia</td>\n",
       "      <td>0.088018</td>\n",
       "    </tr>\n",
       "    <tr>\n",
       "      <th>63</th>\n",
       "      <td>saving_ratio</td>\n",
       "      <td>0.080303</td>\n",
       "    </tr>\n",
       "    <tr>\n",
       "      <th>8</th>\n",
       "      <td>num__dig_9</td>\n",
       "      <td>0.044094</td>\n",
       "    </tr>\n",
       "    <tr>\n",
       "      <th>9</th>\n",
       "      <td>num__dig_10</td>\n",
       "      <td>0.040073</td>\n",
       "    </tr>\n",
       "    <tr>\n",
       "      <th>23</th>\n",
       "      <td>num__payroll</td>\n",
       "      <td>0.035597</td>\n",
       "    </tr>\n",
       "    <tr>\n",
       "      <th>56</th>\n",
       "      <td>cat__bureau_risk_category_8</td>\n",
       "      <td>0.035013</td>\n",
       "    </tr>\n",
       "    <tr>\n",
       "      <th>6</th>\n",
       "      <td>num__dig_7</td>\n",
       "      <td>0.033249</td>\n",
       "    </tr>\n",
       "  </tbody>\n",
       "</table>\n",
       "</div>"
      ],
      "text/plain": [
       "                 Caracteristica  importancia\n",
       "58            cat__product_1_No     0.220863\n",
       "59           cat__product_1_Yes     0.205401\n",
       "11           num__product_1_lia     0.088018\n",
       "63                 saving_ratio     0.080303\n",
       "8                    num__dig_9     0.044094\n",
       "9                   num__dig_10     0.040073\n",
       "23                 num__payroll     0.035597\n",
       "56  cat__bureau_risk_category_8     0.035013\n",
       "6                    num__dig_7     0.033249"
      ]
     },
     "execution_count": 51,
     "metadata": {},
     "output_type": "execute_result"
    }
   ],
   "source": [
    "import pandas as pd\n",
    "\n",
    "# Supongamos que tienes un DataFrame llamado importancia_df con una columna 'importancia'\n",
    "# Ordena el DataFrame por la columna 'importancia' en orden descendente\n",
    "importancia_df = importancia_df.sort_values('importancia', ascending=False)\n",
    "\n",
    "# Calcula la suma acumulativa de la columna 'importancia'\n",
    "importancia_df['cumulative_sum'] = importancia_df['importancia'].cumsum()\n",
    "\n",
    "# Filtra las filas donde la suma acumulativa es al menos el 90% del total\n",
    "umbral = 0.8  # 90%\n",
    "importancia_filtrada = importancia_df[importancia_df['cumulative_sum'] <= umbral]\n",
    "\n",
    "# Elimina la columna 'cumulative_sum' si no la necesitas\n",
    "importancia_filtrada = importancia_filtrada.drop(columns=['cumulative_sum'])\n",
    "\n",
    "# Ahora 'importancia_filtrada' contiene las filas que suman al menos el 90% de la importancia total\n",
    "importancia_filtrada"
   ]
  },
  {
   "cell_type": "code",
   "execution_count": 47,
   "metadata": {},
   "outputs": [
    {
     "data": {
      "image/png": "[encoded data removed]",
      "text/plain": [
       "<Figure size 1000x600 with 1 Axes>"
      ]
     },
     "metadata": {},
     "output_type": "display_data"
    }
   ],
   "source": [
    "import matplotlib.pyplot as plt\n",
    "\n",
    "# Supongamos que tienes un DataFrame df con columnas 'nombres' y 'valores'\n",
    "df_filtrado = importancia_df[importancia_df['importancia'] > 0.01]\n",
    "\n",
    "\n",
    "\n",
    "# Crear un gráfico de dispersión con etiquetas\n",
    "plt.figure(figsize=(10, 6))\n",
    "plt.scatter(df_filtrado['importancia'], range(len(df_filtrado)), marker='o', c='blue')\n",
    "plt.yticks(range(len(df_filtrado)), df_filtrado['Caracteristica'], fontsize=8)\n",
    "plt.title('Distribución de Valores con Etiquetas')\n",
    "plt.xlabel('Valores')\n",
    "plt.ylabel('Nombres')\n",
    "plt.grid(axis='x')  # Agregar una cuadrícula en el eje x\n",
    "plt.show()\n",
    "\n",
    "\n"
   ]
  },
  {
   "cell_type": "code",
   "execution_count": null,
   "metadata": {},
   "outputs": [],
   "source": []
  },
  {
   "cell_type": "code",
   "execution_count": null,
   "metadata": {},
   "outputs": [],
   "source": [
    "#from sklearn.decomposition import PCA\n",
    "\n",
    "#pca=PCA(random_state=23)\n",
    "#pca.fit(X_tr,y)"
   ]
  },
  {
   "cell_type": "code",
   "execution_count": null,
   "metadata": {},
   "outputs": [],
   "source": [
    "#import matplotlib.pyplot as plt\n",
    "#cum_variance=np.cumsum(pca.explained_variance_ratio_)\n",
    "#x_axis=range(1,X_tr.shape[1]+1)\n",
    "#plt.plot(x_axis,cum_variance,'sb-')\n",
    "##plt.xticks(range(0,X_tr.shape[0]),x_axis)\n",
    "#threshold=0.90\n",
    "#plt.axhline(y=threshold,color='r')\n",
    "#npca=len(cum_variance[cum_variance<threshold])\n",
    "#print(npca)\n"
   ]
  },
  {
   "cell_type": "code",
   "execution_count": null,
   "metadata": {},
   "outputs": [],
   "source": [
    "#y.value_counts()/len(y)"
   ]
  },
  {
   "cell_type": "code",
   "execution_count": null,
   "metadata": {},
   "outputs": [],
   "source": [
    "from sklearn.model_selection import StratifiedKFold,cross_validate,RandomizedSearchCV\n",
    "from sklearn.metrics import make_scorer,f1_score\n",
    "from lightgbm import LGBMClassifier\n",
    "\n",
    "\n",
    "skf=StratifiedKFold(n_splits=10,random_state=23,shuffle=True)\n",
    "custom_f1score=make_scorer(f1_score,average='macro',zero_division=0)\n",
    "pca=PCA(n_components=npca,random_state=23)\n",
    "estimator=LGBMClassifier(random_state=23,n_jobs=1\n",
    "                         ,class_weight='balanced')\n",
    "model_pipe=Pipeline([('prep',preprocessor),\n",
    "                     ('pca',pca),\n",
    "                     ('clf',estimator)])\n",
    "\n",
    "num_leaves=[10,31,40,50]\n",
    "max_depth=[5,7,9,11,13,15,20]\n",
    "n_estimators=[100,150,180,200,250,300]\n",
    "learning_rate=[0.1,0.01]\n",
    "boosting_type=['gbdt','dart','rf']\n",
    "\n",
    "param_grid={'clf__num_leaves':num_leaves,\n",
    "            'clf__max_depth':max_depth,\n",
    "            'clf__n_estimators':n_estimators,\n",
    "            'clf__learning_rate':learning_rate,\n",
    "            'clf__boosting_type':boosting_type}\n",
    "\n",
    "model_search=RandomizedSearchCV(estimator=model_pipe,\n",
    "                                param_distributions=param_grid,\n",
    "                                random_state=23,\n",
    "                                n_iter=15,\n",
    "                                scoring=custom_f1score,\n",
    "                                cv=skf,\n",
    "                                error_score=0,\n",
    "                                return_train_score=True,\n",
    "                                verbose=2,\n",
    "                                n_jobs=1)\n",
    "\n",
    "result_cv=cross_validate(X=X,\n",
    "                         y=y,\n",
    "                         estimator=model_search,\n",
    "                         cv=skf,\n",
    "                         scoring=custom_f1score,\n",
    "                         return_train_score=True,\n",
    "                         return_estimator=True,\n",
    "                         n_jobs=2,\n",
    "                         error_score=0)"
   ]
  }
 ],
 "metadata": {
  "kernelspec": {
   "display_name": "Datathon",
   "language": "python",
   "name": "python3"
  },
  "language_info": {
   "codemirror_mode": {
    "name": "ipython",
    "version": 3
   },
   "file_extension": ".py",
   "mimetype": "text/x-python",
   "name": "python",
   "nbconvert_exporter": "python",
   "pygments_lexer": "ipython3",
   "version": "3.11.6"
  },
  "orig_nbformat": 4
 },
 "nbformat": 4,
 "nbformat_minor": 2
}
