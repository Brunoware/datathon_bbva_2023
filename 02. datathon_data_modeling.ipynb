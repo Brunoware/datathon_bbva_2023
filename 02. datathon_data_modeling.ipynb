{
 "cells": [
  {
   "cell_type": "code",
   "execution_count": 1,
   "metadata": {},
   "outputs": [],
   "source": [
    "import pandas as pd\n",
    "import numpy as np"
   ]
  },
  {
   "cell_type": "markdown",
   "metadata": {},
   "source": [
    "Split in categorical and numerical variables"
   ]
  },
  {
   "cell_type": "code",
   "execution_count": 2,
   "metadata": {},
   "outputs": [],
   "source": [
    "df=pd.read_csv('datasets/train_table.csv',low_memory=False,index_col='ID')\n",
    "\n",
    "y=df['attrition']\n",
    "X=df.drop(columns='attrition')\n",
    "\n",
    "# Create a DataFrame with numeric columns\n",
    "X_numeric = X.select_dtypes(include=['number'])\n",
    "\n",
    "# Create a DataFrame with object (categorical) columns\n",
    "X_categorical = X.select_dtypes(include=['object'])\n"
   ]
  },
  {
   "cell_type": "code",
   "execution_count": 3,
   "metadata": {},
   "outputs": [],
   "source": [
    "from sklearn.base import BaseEstimator,TransformerMixin\n",
    "class SelectCatColumns (BaseEstimator,TransformerMixin):\n",
    "    def __init__(self,list_columns):\n",
    "        self.list_columns=list_columns\n",
    "    def fit(self,X,y=None):\n",
    "        return self\n",
    "    def transform (self,X):\n",
    "        return X[self.list_columns]"
   ]
  },
  {
   "cell_type": "code",
   "execution_count": 4,
   "metadata": {},
   "outputs": [],
   "source": [
    "from sklearn.compose import ColumnTransformer\n",
    "from sklearn.preprocessing import OneHotEncoder, StandardScaler\n",
    "\n",
    "num_cols=X_numeric.columns.tolist()\n",
    "cat_cols=X_categorical.columns.tolist()"
   ]
  },
  {
   "cell_type": "code",
   "execution_count": 5,
   "metadata": {},
   "outputs": [],
   "source": [
    "flag_cat=X_categorical.describe().T\n",
    "flag_cat['ratio']=flag_cat['freq']/flag_cat['count']\n",
    "flag_cat['flag_delete']=np.where(flag_cat['ratio']>0.7,1,0)"
   ]
  },
  {
   "cell_type": "code",
   "execution_count": 6,
   "metadata": {},
   "outputs": [],
   "source": [
    "col_st=flag_cat.loc[flag_cat['flag_delete']==0].index.to_list()"
   ]
  },
  {
   "cell_type": "code",
   "execution_count": 7,
   "metadata": {},
   "outputs": [
    {
     "data": {
      "text/plain": [
       "['product', 'entity', 'period', 'type_job', 'bureau_risk', 'product_1']"
      ]
     },
     "execution_count": 7,
     "metadata": {},
     "output_type": "execute_result"
    }
   ],
   "source": [
    "col_st"
   ]
  },
  {
   "cell_type": "code",
   "execution_count": 8,
   "metadata": {},
   "outputs": [],
   "source": [
    "df_categorical=X_categorical[col_st]#.describe().T"
   ]
  },
  {
   "cell_type": "code",
   "execution_count": 9,
   "metadata": {},
   "outputs": [],
   "source": [
    "import pandas as pd\n",
    "from sklearn.compose import ColumnTransformer\n",
    "from sklearn.preprocessing import OneHotEncoder, StandardScaler\n",
    "from sklearn.pipeline import Pipeline\n",
    "\n",
    "# pipecat=Pipeline([('feature',SelectCatColumns(col_st)),\n",
    "#                   ('encoding',OneHotEncoder(handle_unknown='ignore',sparse=False,sparse_output=False).set_output(transform='pandas'))])\n",
    "\n",
    "# Supongamos que tienes un DataFrame llamado 'data' con las columnas que deseas transformar\n",
    "\n",
    "# Definir las columnas categóricas y numéricas\n",
    "categorical_columns = ['product', 'entity', 'period', 'type_job', 'bureau_risk', 'product_1']\n",
    "numeric_columns = num_cols  # Agrega tus columnas numéricas aquí\n",
    "\n",
    "# Crear un ColumnTransformer\n",
    "preprocessor = ColumnTransformer(\n",
    "    transformers=[\n",
    "        ('num', StandardScaler().set_output(transform='pandas'), numeric_columns),\n",
    "        ('cat', OneHotEncoder(handle_unknown='ignore',sparse=False,sparse_output=False).set_output(transform='pandas'), categorical_columns),\n",
    "    ],\n",
    "    remainder='drop',\n",
    "    n_jobs=-1\n",
    ")\n",
    "\n",
    "# Aplicar la transformación y configurar la salida en formato Pandas\n",
    "preprocessor.set_output(transform='pandas')\n",
    "X_tr = preprocessor.fit_transform(X)\n",
    "\n",
    "# Ahora, data_transformed contendrá las columnas transformadas con one-hot encoding y StandardScaler en formato Pandas\n"
   ]
  },
  {
   "cell_type": "code",
   "execution_count": 10,
   "metadata": {},
   "outputs": [
    {
     "data": {
      "text/html": [
       "<style>#sk-container-id-1 {color: black;}#sk-container-id-1 pre{padding: 0;}#sk-container-id-1 div.sk-toggleable {background-color: white;}#sk-container-id-1 label.sk-toggleable__label {cursor: pointer;display: block;width: 100%;margin-bottom: 0;padding: 0.3em;box-sizing: border-box;text-align: center;}#sk-container-id-1 label.sk-toggleable__label-arrow:before {content: \"▸\";float: left;margin-right: 0.25em;color: #696969;}#sk-container-id-1 label.sk-toggleable__label-arrow:hover:before {color: black;}#sk-container-id-1 div.sk-estimator:hover label.sk-toggleable__label-arrow:before {color: black;}#sk-container-id-1 div.sk-toggleable__content {max-height: 0;max-width: 0;overflow: hidden;text-align: left;background-color: #f0f8ff;}#sk-container-id-1 div.sk-toggleable__content pre {margin: 0.2em;color: black;border-radius: 0.25em;background-color: #f0f8ff;}#sk-container-id-1 input.sk-toggleable__control:checked~div.sk-toggleable__content {max-height: 200px;max-width: 100%;overflow: auto;}#sk-container-id-1 input.sk-toggleable__control:checked~label.sk-toggleable__label-arrow:before {content: \"▾\";}#sk-container-id-1 div.sk-estimator input.sk-toggleable__control:checked~label.sk-toggleable__label {background-color: #d4ebff;}#sk-container-id-1 div.sk-label input.sk-toggleable__control:checked~label.sk-toggleable__label {background-color: #d4ebff;}#sk-container-id-1 input.sk-hidden--visually {border: 0;clip: rect(1px 1px 1px 1px);clip: rect(1px, 1px, 1px, 1px);height: 1px;margin: -1px;overflow: hidden;padding: 0;position: absolute;width: 1px;}#sk-container-id-1 div.sk-estimator {font-family: monospace;background-color: #f0f8ff;border: 1px dotted black;border-radius: 0.25em;box-sizing: border-box;margin-bottom: 0.5em;}#sk-container-id-1 div.sk-estimator:hover {background-color: #d4ebff;}#sk-container-id-1 div.sk-parallel-item::after {content: \"\";width: 100%;border-bottom: 1px solid gray;flex-grow: 1;}#sk-container-id-1 div.sk-label:hover label.sk-toggleable__label {background-color: #d4ebff;}#sk-container-id-1 div.sk-serial::before {content: \"\";position: absolute;border-left: 1px solid gray;box-sizing: border-box;top: 0;bottom: 0;left: 50%;z-index: 0;}#sk-container-id-1 div.sk-serial {display: flex;flex-direction: column;align-items: center;background-color: white;padding-right: 0.2em;padding-left: 0.2em;position: relative;}#sk-container-id-1 div.sk-item {position: relative;z-index: 1;}#sk-container-id-1 div.sk-parallel {display: flex;align-items: stretch;justify-content: center;background-color: white;position: relative;}#sk-container-id-1 div.sk-item::before, #sk-container-id-1 div.sk-parallel-item::before {content: \"\";position: absolute;border-left: 1px solid gray;box-sizing: border-box;top: 0;bottom: 0;left: 50%;z-index: -1;}#sk-container-id-1 div.sk-parallel-item {display: flex;flex-direction: column;z-index: 1;position: relative;background-color: white;}#sk-container-id-1 div.sk-parallel-item:first-child::after {align-self: flex-end;width: 50%;}#sk-container-id-1 div.sk-parallel-item:last-child::after {align-self: flex-start;width: 50%;}#sk-container-id-1 div.sk-parallel-item:only-child::after {width: 0;}#sk-container-id-1 div.sk-dashed-wrapped {border: 1px dashed gray;margin: 0 0.4em 0.5em 0.4em;box-sizing: border-box;padding-bottom: 0.4em;background-color: white;}#sk-container-id-1 div.sk-label label {font-family: monospace;font-weight: bold;display: inline-block;line-height: 1.2em;}#sk-container-id-1 div.sk-label-container {text-align: center;}#sk-container-id-1 div.sk-container {/* jupyter's `normalize.less` sets `[hidden] { display: none; }` but bootstrap.min.css set `[hidden] { display: none !important; }` so we also need the `!important` here to be able to override the default hidden behavior on the sphinx rendered scikit-learn.org. See: https://github.com/scikit-learn/scikit-learn/issues/21755 */display: inline-block !important;position: relative;}#sk-container-id-1 div.sk-text-repr-fallback {display: none;}</style><div id=\"sk-container-id-1\" class=\"sk-top-container\"><div class=\"sk-text-repr-fallback\"><pre>PCA(random_state=23)</pre><b>In a Jupyter environment, please rerun this cell to show the HTML representation or trust the notebook. <br />On GitHub, the HTML representation is unable to render, please try loading this page with nbviewer.org.</b></div><div class=\"sk-container\" hidden><div class=\"sk-item\"><div class=\"sk-estimator sk-toggleable\"><input class=\"sk-toggleable__control sk-hidden--visually\" id=\"sk-estimator-id-1\" type=\"checkbox\" checked><label for=\"sk-estimator-id-1\" class=\"sk-toggleable__label sk-toggleable__label-arrow\">PCA</label><div class=\"sk-toggleable__content\"><pre>PCA(random_state=23)</pre></div></div></div></div></div>"
      ],
      "text/plain": [
       "PCA(random_state=23)"
      ]
     },
     "execution_count": 10,
     "metadata": {},
     "output_type": "execute_result"
    }
   ],
   "source": [
    "from sklearn.decomposition import PCA\n",
    "\n",
    "pca=PCA(random_state=23)\n",
    "pca.fit(X_tr,y)"
   ]
  },
  {
   "cell_type": "code",
   "execution_count": 11,
   "metadata": {},
   "outputs": [
    {
     "name": "stdout",
     "output_type": "stream",
     "text": [
      "23\n"
     ]
    },
    {
     "data": {
      "image/png": "[encoded data removed]",
      "text/plain": [
       "<Figure size 640x480 with 1 Axes>"
      ]
     },
     "metadata": {},
     "output_type": "display_data"
    }
   ],
   "source": [
    "import matplotlib.pyplot as plt\n",
    "cum_variance=np.cumsum(pca.explained_variance_ratio_)\n",
    "x_axis=range(1,X_tr.shape[1]+1)\n",
    "plt.plot(x_axis,cum_variance,'sb-')\n",
    "#plt.xticks(range(0,X_tr.shape[0]),x_axis)\n",
    "threshold=0.90\n",
    "plt.axhline(y=threshold,color='r')\n",
    "npca=len(cum_variance[cum_variance<threshold])\n",
    "print(npca)\n"
   ]
  },
  {
   "cell_type": "code",
   "execution_count": 12,
   "metadata": {},
   "outputs": [
    {
     "data": {
      "text/plain": [
       "attrition\n",
       "0.0    0.870749\n",
       "1.0    0.059311\n",
       "5.0    0.028998\n",
       "2.0    0.020272\n",
       "4.0    0.011043\n",
       "3.0    0.009627\n",
       "Name: count, dtype: float64"
      ]
     },
     "execution_count": 12,
     "metadata": {},
     "output_type": "execute_result"
    }
   ],
   "source": [
    "y.value_counts()/len(y)"
   ]
  },
  {
   "cell_type": "code",
   "execution_count": 13,
   "metadata": {},
   "outputs": [],
   "source": [
    "from sklearn.model_selection import StratifiedKFold,cross_validate,RandomizedSearchCV\n",
    "from sklearn.metrics import make_scorer,f1_score\n",
    "from lightgbm import LGBMClassifier\n",
    "\n",
    "\n",
    "skf=StratifiedKFold(n_splits=10,random_state=23,shuffle=True)\n",
    "custom_f1score=make_scorer(f1_score,average='macro',zero_division=0)\n",
    "pca=PCA(n_components=npca,random_state=23)\n",
    "estimator=LGBMClassifier(random_state=23,n_jobs=2,class_weight='balanced')\n",
    "model_pipe=Pipeline([('prep',preprocessor),\n",
    "                     ('pca',pca),\n",
    "                     ('clf',estimator)])\n",
    "\n",
    "num_leaves=[10,31,40,50]\n",
    "max_depth=[5,7,9,11,13,15,20]\n",
    "n_estimators=[100,150,180,200,250,300]\n",
    "learning_rate=[0.1,0.01]\n",
    "boosting_type=['gbdt','dart','rf']\n",
    "\n",
    "param_grid={'clf__num_leaves':num_leaves,\n",
    "            'clf__max_depth':max_depth,\n",
    "            'clf__n_estimators':n_estimators,\n",
    "            'clf__learning_rate':learning_rate,\n",
    "            'clf__boosting_type':boosting_type}\n",
    "\n",
    "model_search=RandomizedSearchCV(estimator=model_pipe,\n",
    "                                param_distributions=param_grid,\n",
    "                                random_state=23,\n",
    "                                n_iter=15,\n",
    "                                scoring=custom_f1score,\n",
    "                                cv=skf,\n",
    "                                error_score=0,\n",
    "                                return_train_score=True,\n",
    "                                verbose=2,\n",
    "                                n_jobs=2)\n",
    "\n",
    "result_cv=cross_validate(X=X,\n",
    "                         y=y,\n",
    "                         estimator=model_search,\n",
    "                         cv=skf,\n",
    "                         scoring=custom_f1score,\n",
    "                         return_train_score=True,\n",
    "                         return_estimator=True,\n",
    "                         n_jobs=4,\n",
    "                         error_score=0)"
   ]
  }
 ],
 "metadata": {
  "kernelspec": {
   "display_name": "Datathon",
   "language": "python",
   "name": "python3"
  },
  "language_info": {
   "codemirror_mode": {
    "name": "ipython",
    "version": 3
   },
   "file_extension": ".py",
   "mimetype": "text/x-python",
   "name": "python",
   "nbconvert_exporter": "python",
   "pygments_lexer": "ipython3",
   "version": "3.11.5"
  },
  "orig_nbformat": 4
 },
 "nbformat": 4,
 "nbformat_minor": 2
}
